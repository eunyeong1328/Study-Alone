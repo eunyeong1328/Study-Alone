{
 "cells": [
  {
   "cell_type": "code",
   "execution_count": 9,
   "id": "ccb38b25",
   "metadata": {},
   "outputs": [
    {
     "name": "stdout",
     "output_type": "stream",
     "text": [
      "hello\n",
      "hello\n",
      "My freind's house\n",
      "그녀가 말했다. \"안녕\"\n"
     ]
    }
   ],
   "source": [
    "print(\"hello\") #문자열은 큰 따옴표와 작은따옴표 모두 사용할 수 있다.\n",
    "print('hello')\n",
    "print(\"My freind's house\") #작은 따옴표를 출력해야 하는 문자열은 큰따옴표를 사용\n",
    "print('그녀가 말했다. \"안녕\"') #큰 따옴표를 출력해야 하는 문자열은 작은따옴표를 사용"
   ]
  },
  {
   "cell_type": "code",
   "execution_count": 7,
   "id": "6b9be6c9",
   "metadata": {},
   "outputs": [
    {
     "name": "stdout",
     "output_type": "stream",
     "text": [
      "3\n"
     ]
    }
   ],
   "source": [
    "#정수형\n",
    "print(\"%d\" % 3)"
   ]
  },
  {
   "cell_type": "code",
   "execution_count": 2,
   "id": "3fffa29a",
   "metadata": {},
   "outputs": [
    {
     "name": "stdout",
     "output_type": "stream",
     "text": [
      "3.500000\n"
     ]
    }
   ],
   "source": [
    "#실수형\n",
    "print(\"%f\" % 3.5)"
   ]
  },
  {
   "cell_type": "code",
   "execution_count": 3,
   "id": "f4f93eb5",
   "metadata": {},
   "outputs": [
    {
     "name": "stdout",
     "output_type": "stream",
     "text": [
      "3.50\n"
     ]
    }
   ],
   "source": [
    "#실수 소수 2번째 자리까지 출력 \n",
    "print(\"%.2f\" % 3.5)"
   ]
  },
  {
   "cell_type": "code",
   "execution_count": 6,
   "id": "20748949",
   "metadata": {},
   "outputs": [
    {
     "name": "stdout",
     "output_type": "stream",
     "text": [
      "이름 : 이은영\n"
     ]
    }
   ],
   "source": [
    "name = input(\"이름 : \") #입력"
   ]
  },
  {
   "cell_type": "code",
   "execution_count": 12,
   "id": "1d3fce78",
   "metadata": {},
   "outputs": [
    {
     "name": "stdout",
     "output_type": "stream",
     "text": [
      "수 입력 : 1\n",
      "수 입력 : 2\n",
      "1 + 2 =  3\n",
      "1 - 2 =  -1\n",
      "1 * 2 =  2\n",
      "1 / 2 =  0.5\n"
     ]
    }
   ],
   "source": [
    "num1 = int ( input(\"수 입력 : \") )\n",
    "num2 = int ( input(\"수 입력 : \") )\n",
    "\n",
    "print(num1, \"+\" , num2, \"= \", num1 + num2)\n",
    "print(num1, \"-\" , num2, \"= \", num1 - num2)\n",
    "print(num1, \"*\" , num2, \"= \", num1 * num2)\n",
    "print(num1, \"/\" , num2, \"= \", num1 / num2)"
   ]
  },
  {
   "cell_type": "code",
   "execution_count": 14,
   "id": "828cc143",
   "metadata": {},
   "outputs": [
    {
     "name": "stdout",
     "output_type": "stream",
     "text": [
      "0 안녕\n",
      "1 안녕\n",
      "2 안녕\n"
     ]
    }
   ],
   "source": [
    "for i in range(3):\n",
    "    print(i, \"안녕\")"
   ]
  },
  {
   "cell_type": "code",
   "execution_count": 16,
   "id": "e0cbc7cc",
   "metadata": {},
   "outputs": [
    {
     "name": "stdout",
     "output_type": "stream",
     "text": [
      "2\n",
      "3\n",
      "4\n"
     ]
    }
   ],
   "source": [
    "for i in range(2,5):\n",
    "    print(i)"
   ]
  },
  {
   "cell_type": "code",
   "execution_count": 17,
   "id": "d05b94b7",
   "metadata": {},
   "outputs": [
    {
     "name": "stdout",
     "output_type": "stream",
     "text": [
      "0\n",
      "2\n",
      "4\n",
      "6\n"
     ]
    }
   ],
   "source": [
    "for i in range(0,7,2):\n",
    "    print(i)"
   ]
  },
  {
   "cell_type": "code",
   "execution_count": 18,
   "id": "38723cc8",
   "metadata": {},
   "outputs": [
    {
     "name": "stdout",
     "output_type": "stream",
     "text": [
      "6\n",
      "4\n",
      "2\n",
      "0\n"
     ]
    }
   ],
   "source": [
    "for i in range(6,-1,-2):\n",
    "    print(i)"
   ]
  },
  {
   "cell_type": "code",
   "execution_count": 19,
   "id": "64519134",
   "metadata": {},
   "outputs": [
    {
     "name": "stdout",
     "output_type": "stream",
     "text": [
      "* \n",
      "* \n",
      "* \n",
      "* \n",
      "* \n",
      "* \n",
      "* \n",
      "* \n",
      "* \n"
     ]
    }
   ],
   "source": [
    "for i in range(3):\n",
    "    for j in range(3):\n",
    "        print('* ')"
   ]
  },
  {
   "cell_type": "code",
   "execution_count": 20,
   "id": "89f7d220",
   "metadata": {},
   "outputs": [
    {
     "name": "stdout",
     "output_type": "stream",
     "text": [
      "* * * * * * * * * "
     ]
    }
   ],
   "source": [
    "for i in range(3):\n",
    "    for j in range(3):\n",
    "        print('* ',end='') # 개행 대신 ' '가 출력된다"
   ]
  },
  {
   "cell_type": "code",
   "execution_count": 29,
   "id": "b12f2d73",
   "metadata": {},
   "outputs": [
    {
     "name": "stdout",
     "output_type": "stream",
     "text": [
      "1\n",
      "2\n",
      "3\n",
      "4\n",
      "6\n",
      "7\n",
      "8\n",
      "9\n",
      "10\n"
     ]
    }
   ],
   "source": [
    "for i in range(1,11):\n",
    "    if(i==5):\n",
    "        #break\n",
    "        continue\n",
    "    print(i)"
   ]
  },
  {
   "cell_type": "code",
   "execution_count": 1,
   "id": "85fbcb60",
   "metadata": {},
   "outputs": [
    {
     "name": "stdout",
     "output_type": "stream",
     "text": [
      "3 의 제곱: 9\n"
     ]
    }
   ],
   "source": [
    "def double(num):\n",
    "    print(num, \"의 제곱:\", num*num)\n",
    "double(3)"
   ]
  },
  {
   "cell_type": "code",
   "execution_count": null,
   "id": "b9e2f9fa",
   "metadata": {},
   "outputs": [],
   "source": [
    "def add_sub(a,b): \n",
    "    sum = a+b\n",
    "    diff = a-b\n",
    "    return sum, diff\n",
    "print(add_sub(3,5))"
   ]
  },
  {
   "cell_type": "code",
   "execution_count": 5,
   "id": "cbd29b1d",
   "metadata": {},
   "outputs": [
    {
     "name": "stdout",
     "output_type": "stream",
     "text": [
      "a = 5 , b = 3\n",
      "a = 3 , b = 5\n"
     ]
    }
   ],
   "source": [
    "def swap(a,b):\n",
    "    temp = a\n",
    "    a = b\n",
    "    b = temp\n",
    "    print(\"a =\", a, \", b =\", b)\n",
    "a=3\n",
    "b=5\n",
    "swap(a,b)\n",
    "print('a =',a,', b =',b) # 값이 바뀌지 않는다."
   ]
  },
  {
   "cell_type": "code",
   "execution_count": 34,
   "id": "ea640fe2",
   "metadata": {},
   "outputs": [
    {
     "name": "stdout",
     "output_type": "stream",
     "text": [
      "num1= 5 num2= 3\n"
     ]
    }
   ],
   "source": [
    "def swap(num1,num2):\n",
    "     return num2 ,num1\n",
    "num1=3\n",
    "num2=5\n",
    "num1, num2 = swap(num1, num2)\n",
    "print('num1=',num1,'num2=',num2)"
   ]
  },
  {
   "cell_type": "code",
   "execution_count": 41,
   "id": "65709adc",
   "metadata": {},
   "outputs": [
    {
     "name": "stdout",
     "output_type": "stream",
     "text": [
      "76\n"
     ]
    }
   ],
   "source": [
    "import random \n",
    "print(random.randint(50,100)) #특정 범위를 무작위로 값 반환  "
   ]
  },
  {
   "cell_type": "code",
   "execution_count": 43,
   "id": "6b765a1e",
   "metadata": {},
   "outputs": [
    {
     "name": "stdout",
     "output_type": "stream",
     "text": [
      "g\n"
     ]
    }
   ],
   "source": [
    "animal = 'frog'\n",
    "print(animal[3])"
   ]
  },
  {
   "cell_type": "code",
   "execution_count": 44,
   "id": "b8b9cb65",
   "metadata": {},
   "outputs": [
    {
     "name": "stdout",
     "output_type": "stream",
     "text": [
      "g\n"
     ]
    }
   ],
   "source": [
    "animal = 'frog'\n",
    "print(animal[-1])"
   ]
  },
  {
   "cell_type": "code",
   "execution_count": 49,
   "id": "551098db",
   "metadata": {},
   "outputs": [
    {
     "name": "stdout",
     "output_type": "stream",
     "text": [
      "렌\n",
      "렌\n"
     ]
    }
   ],
   "source": [
    "fruit = '오렌지'\n",
    "print(fruit[1])\n",
    "print(fruit[-2])"
   ]
  },
  {
   "cell_type": "code",
   "execution_count": 50,
   "id": "d12b18a5",
   "metadata": {},
   "outputs": [
    {
     "name": "stdout",
     "output_type": "stream",
     "text": [
      "ro\n"
     ]
    }
   ],
   "source": [
    "animal = 'frog'\n",
    "print(animal[1:3])"
   ]
  },
  {
   "cell_type": "code",
   "execution_count": 51,
   "id": "18795c79",
   "metadata": {},
   "outputs": [
    {
     "name": "stdout",
     "output_type": "stream",
     "text": [
      "fo\n"
     ]
    }
   ],
   "source": [
    "animal = 'frog'\n",
    "print(animal[0:3:2])"
   ]
  },
  {
   "cell_type": "code",
   "execution_count": 52,
   "id": "cea1a0b0",
   "metadata": {},
   "outputs": [
    {
     "name": "stdout",
     "output_type": "stream",
     "text": [
      "frog\n",
      "rog\n",
      "fr\n"
     ]
    }
   ],
   "source": [
    "animal = 'frog'\n",
    "print(animal[:]) #전체의 문자열 출력\n",
    "print(animal[1:]) #인덱스 1에서부터 문자열의 끝까지 출력\n",
    "print(animal[:2]) #처음부터 2직전까지의 내용 출력"
   ]
  },
  {
   "cell_type": "code",
   "execution_count": 53,
   "id": "b1fe27ab",
   "metadata": {
    "scrolled": true
   },
   "outputs": [
    {
     "name": "stdout",
     "output_type": "stream",
     "text": [
      "eehn\n",
      "tapl\n"
     ]
    }
   ],
   "source": [
    "animal = 'elephant'\n",
    "print(animal[::2])\n",
    "print(animal[::-2])"
   ]
  },
  {
   "cell_type": "code",
   "execution_count": 54,
   "id": "d4eb5977",
   "metadata": {},
   "outputs": [
    {
     "name": "stdout",
     "output_type": "stream",
     "text": [
      "총 개수: 2\n"
     ]
    }
   ],
   "source": [
    "animal = 'elephant'\n",
    "print('총 개수:',animal.count('e'))"
   ]
  },
  {
   "cell_type": "code",
   "execution_count": 55,
   "id": "54e2059f",
   "metadata": {},
   "outputs": [
    {
     "name": "stdout",
     "output_type": "stream",
     "text": [
      "앞쪽 찾기: 0\n",
      "ep 찾기: 2\n",
      "뒤쪽 찾기: 2\n",
      "위치: 0\n",
      "el 시작: True\n"
     ]
    }
   ],
   "source": [
    "animal = 'elephant'\n",
    "print('앞쪽 찾기:', animal.find('e'))\n",
    "print('ep 찾기:', animal.find('ep'))\n",
    "print('뒤쪽 찾기:', animal.rfind('e'))\n",
    "print('위치:', animal.index('e'))\n",
    "print('el 시작:', animal.startswith('el'))"
   ]
  },
  {
   "cell_type": "code",
   "execution_count": 70,
   "id": "93a7c306",
   "metadata": {},
   "outputs": [
    {
     "name": "stdout",
     "output_type": "stream",
     "text": [
      "True\n",
      "True\n",
      "False\n",
      "False\n"
     ]
    }
   ],
   "source": [
    "a='한양여자대학교'\n",
    "print(\"한양\" in a)\n",
    "print(\"여자\" in a)\n",
    "print(\"대학\" not in a)\n",
    "print(a in \"여자\")"
   ]
  },
  {
   "cell_type": "code",
   "execution_count": 61,
   "id": "722cd6d1",
   "metadata": {},
   "outputs": [
    {
     "name": "stdout",
     "output_type": "stream",
     "text": [
      "선택수정: Python Program\n",
      "소문자: python program\n",
      "대문자: PYTHON PROGRAM\n",
      "swap대소문자: PYTHON PROGRAM\n",
      "첫문자만 대문자: Python program\n"
     ]
    }
   ],
   "source": [
    "ai = 'python program'\n",
    "print('선택수정:', ai.replace('p','P'))  # 잘 알아두기. 나중에 많이 사용함!!!!\n",
    "print('소문자:', ai.lower()) #모든 문자들을 소문자로 변환\n",
    "print('대문자:', ai.upper()) #모든 문자들을 대문자로 변환\n",
    "print('swap대소문자:', ai.swapcase()) #모든 대/소문자를 역으로 변환\n",
    "print('첫문자만 대문자:', ai.capitalize()) #문자열의 첫 문자만 대문자로 수정\n"
   ]
  },
  {
   "cell_type": "code",
   "execution_count": 63,
   "id": "ae6c7ddc",
   "metadata": {},
   "outputs": [
    {
     "name": "stdout",
     "output_type": "stream",
     "text": [
      "한\n"
     ]
    }
   ],
   "source": [
    "import random\n",
    "chars = ['한', '글', '우', '수']\n",
    "print(random.choice(chars)) #무작위로 문자로 출력"
   ]
  },
  {
   "cell_type": "code",
   "execution_count": 67,
   "id": "e9391543",
   "metadata": {},
   "outputs": [
    {
     "name": "stdout",
     "output_type": "stream",
     "text": [
      "가위바위보:  바위\n",
      "윷놀이:  모\n"
     ]
    }
   ],
   "source": [
    "#가위바위보, 윷놀이\n",
    "import random\n",
    "chars =['가위','바위','보']\n",
    "print('가위바위보 게임: ', random.choice(chars))\n",
    "\n",
    "import random\n",
    "chars = ['도','개','걸','윷','모']\n",
    "print('윷놀이 게임: ', random.choice(chars))"
   ]
  },
  {
   "cell_type": "code",
   "execution_count": 75,
   "id": "2342773e",
   "metadata": {},
   "outputs": [
    {
     "name": "stdout",
     "output_type": "stream",
     "text": [
      "***** 0 회 게임 시작******\n",
      "앞,뒷 : 앞\n",
      "안빙고\n",
      "***** 0 회 게임 시작******\n",
      "앞,뒷 : 뒷\n",
      "안빙고\n",
      "***** 0 회 게임 시작******\n",
      "앞,뒷 : 앞\n",
      "빙고\n",
      "***** 0 회 게임 시작******\n",
      "앞,뒷 : 앞\n",
      "빙고\n",
      "***** 0 회 게임 시작******\n",
      "앞,뒷 : 앞\n",
      "안빙고\n",
      "***** 0 회 게임 시작******\n",
      "앞,뒷 : 앞\n",
      "빙고\n",
      "종료\n"
     ]
    }
   ],
   "source": [
    "#동전게임\n",
    "import random \n",
    "a = ['앞','뒷']\n",
    "count = 0\n",
    "n = 0\n",
    "while(True):\n",
    "    n = n + 1\n",
    "    print('*****',n,'회 게임 시작******')\n",
    "    comput = random.choice(a)\n",
    "    player = input(\"앞,뒷 : \")\n",
    "    if(comput == player):\n",
    "        print('빙고')\n",
    "        count = count + 1\n",
    "        if count == 3:\n",
    "            print(\"승률 : \", ) \n",
    "            print('종료')\n",
    "            break\n",
    "    else:\n",
    "        print('안빙고')"
   ]
  },
  {
   "cell_type": "code",
   "execution_count": 3,
   "id": "dda46dbf",
   "metadata": {},
   "outputs": [
    {
     "name": "stdout",
     "output_type": "stream",
     "text": [
      "a= [1, 5, 7] b= [1, 5, 7]\n"
     ]
    }
   ],
   "source": [
    "a = [3,5,7]\n",
    "b = a\n",
    "b[0] = b[0] - 2\n",
    "print('a=', a, 'b=', b)"
   ]
  },
  {
   "cell_type": "code",
   "execution_count": 6,
   "id": "dd7d19f2",
   "metadata": {},
   "outputs": [
    {
     "name": "stdout",
     "output_type": "stream",
     "text": [
      "Packing: [12.23, 23.34]\n",
      "Unpacking:\n",
      "c1: 12.23\n",
      "c2: 23.34\n"
     ]
    }
   ],
   "source": [
    "x = 12.23\n",
    "y = 23.34\n",
    "packing = [x,y] #packing\n",
    "type(packing)\n",
    "print('Packing:' , packing) \n",
    "[c1,c2] = packing #unpacking 알아서 나눠서 넣어줌\n",
    "print('Unpacking:\\nc1:', c1)\n",
    "print('c2:',c2)"
   ]
  },
  {
   "cell_type": "code",
   "execution_count": 8,
   "id": "f9122f0a",
   "metadata": {},
   "outputs": [
    {
     "name": "stdout",
     "output_type": "stream",
     "text": [
      "['포도', '키위', '바나나', '딸기', '사과', '수박']\n"
     ]
    }
   ],
   "source": [
    "a1 = ['바나나']\n",
    "a1.append(\"딸기\")  # 리스트 맨 마지막에 요소 추기하기: append\n",
    "a1.append(\"사과\")\n",
    "a1.append(\"수박\")\n",
    "a1.insert(0,\"포도\") # 원하는 리스트 인덱스에 요소 추가하기: insert\n",
    "a1.insert(1, \"키위\") # 1번 인덱스 위치에 키위를 넣음(나머지 요소들은 뒤로 밀려남)\n",
    "print(a1)"
   ]
  },
  {
   "cell_type": "code",
   "execution_count": 8,
   "id": "5fd73c82",
   "metadata": {},
   "outputs": [
    {
     "name": "stdout",
     "output_type": "stream",
     "text": [
      "[0, 2, 3, 4, 5]\n"
     ]
    }
   ],
   "source": [
    "nums = [0,1,2,3,4,5]\n",
    "del nums[1] #지정된 위치에 해당하는 항목 삭제\n",
    "print(nums)"
   ]
  },
  {
   "cell_type": "code",
   "execution_count": 9,
   "id": "266cc317",
   "metadata": {},
   "outputs": [
    {
     "name": "stdout",
     "output_type": "stream",
     "text": [
      "[0, 5]\n"
     ]
    }
   ],
   "source": [
    "nums = [0,1,2,3,4,5]\n",
    "del nums[1:5] #1부터 5사이의 값 삭제\n",
    "print(nums)"
   ]
  },
  {
   "cell_type": "code",
   "execution_count": 11,
   "id": "16b95e87",
   "metadata": {},
   "outputs": [
    {
     "name": "stdout",
     "output_type": "stream",
     "text": [
      "2 6 9 0 9 1 7 "
     ]
    }
   ],
   "source": [
    "a = [2,6,9,0,9,1,7]\n",
    "for x in a: #리스트에 저장된 원소를 순서대로 출력\n",
    "    print(x, end=' ')"
   ]
  },
  {
   "cell_type": "code",
   "execution_count": 12,
   "id": "54b789b5",
   "metadata": {},
   "outputs": [
    {
     "name": "stdout",
     "output_type": "stream",
     "text": [
      "9 9\n",
      "0 4\n",
      "2 3\n"
     ]
    }
   ],
   "source": [
    "a = [[9,9],[0,4],[2,3]]\n",
    "for x,y in a: #2차원 배열로부터 2개씩 값을 읽으면서 for문을 반복\n",
    "    print(x,y)"
   ]
  }
 ],
 "metadata": {
  "kernelspec": {
   "display_name": "Python 3 (ipykernel)",
   "language": "python",
   "name": "python3"
  },
  "language_info": {
   "codemirror_mode": {
    "name": "ipython",
    "version": 3
   },
   "file_extension": ".py",
   "mimetype": "text/x-python",
   "name": "python",
   "nbconvert_exporter": "python",
   "pygments_lexer": "ipython3",
   "version": "3.9.7"
  }
 },
 "nbformat": 4,
 "nbformat_minor": 5
}
