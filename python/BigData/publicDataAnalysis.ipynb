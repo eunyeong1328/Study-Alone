{
 "cells": [
  {
   "cell_type": "code",
   "execution_count": 6,
   "id": "fe59cfd5",
   "metadata": {},
   "outputs": [],
   "source": [
    "import csv\n",
    "f = open(\"CCTV.csv\")\n",
    "f.close()"
   ]
  },
  {
   "cell_type": "code",
   "execution_count": 4,
   "id": "618cc059",
   "metadata": {},
   "outputs": [
    {
     "ename": "IndentationError",
     "evalue": "expected an indented block (Temp/ipykernel_8788/1553808325.py, line 6)",
     "output_type": "error",
     "traceback": [
      "\u001b[1;36m  File \u001b[1;32m\"C:\\Users\\user\\AppData\\Local\\Temp/ipykernel_8788/1553808325.py\"\u001b[1;36m, line \u001b[1;32m6\u001b[0m\n\u001b[1;33m    f.close() #파일닫기 함수\u001b[0m\n\u001b[1;37m    ^\u001b[0m\n\u001b[1;31mIndentationError\u001b[0m\u001b[1;31m:\u001b[0m expected an indented block\n"
     ]
    }
   ],
   "source": [
    "import csv\n",
    "f = open(\"CCTV.csv\") #파일열기 함수\n",
    "cctv = csv.reader(f) #파일 객체의 CSV의 파일을 읽어 들이는 함수\n",
    "for line in cctv:\n",
    "    #print(line) #데이터가 너무 많아서 주석처리 주석풀면 데이터 확인 가능\n",
    "f.close() #파일닫기 함수\n"
   ]
  },
  {
   "cell_type": "code",
   "execution_count": 14,
   "id": "50cbda58",
   "metadata": {},
   "outputs": [
    {
     "name": "stdout",
     "output_type": "stream",
     "text": [
      "['총계']\n"
     ]
    }
   ],
   "source": [
    "import csv\n",
    "f = open(\"CCTV.csv\")\n",
    "cctv = csv.reader(f) \n",
    "title = next(cctv) #엑셀파일의 맨 첫재줄 행의 값들이 나옴\n",
    "print(title[1:2]) #print(title[1:2]) \n",
    "#for line in cctv:\n",
    "#    print(line) \n",
    "f.close() #파일닫기 함수"
   ]
  },
  {
   "cell_type": "code",
   "execution_count": 5,
   "id": "d8bb325e",
   "metadata": {},
   "outputs": [
    {
     "ename": "IndentationError",
     "evalue": "expected an indented block (Temp/ipykernel_8788/1903530291.py, line 8)",
     "output_type": "error",
     "traceback": [
      "\u001b[1;36m  File \u001b[1;32m\"C:\\Users\\user\\AppData\\Local\\Temp/ipykernel_8788/1903530291.py\"\u001b[1;36m, line \u001b[1;32m8\u001b[0m\n\u001b[1;33m    f.close()\u001b[0m\n\u001b[1;37m    ^\u001b[0m\n\u001b[1;31mIndentationError\u001b[0m\u001b[1;31m:\u001b[0m expected an indented block\n"
     ]
    }
   ],
   "source": [
    "#서울시 금천구 불법주차(IoT) 측정정보 총 데이터 출력\n",
    "#https://data.seoul.go.kr/dataList/OA-20466/S/1/datasetView.do\n",
    "import csv\n",
    "f = open(\"OUTLAWPARKING.csv\")\n",
    "parking = csv.reader(f)\n",
    "for line in parking:\n",
    "    #print(line)\n",
    "f.close()"
   ]
  },
  {
   "cell_type": "code",
   "execution_count": 43,
   "id": "4f49a9b0",
   "metadata": {},
   "outputs": [
    {
     "name": "stdout",
     "output_type": "stream",
     "text": [
      "1009\n"
     ]
    }
   ],
   "source": [
    "#서울시 금천구 불법주차(IoT) 측정정보 총 갯수\n",
    "import csv\n",
    "f = open(\"OUTLAWPARKING.csv\")\n",
    "parking = csv.reader(f)\n",
    "count = 0 \n",
    "for line in parking:\n",
    "    count = count + 1\n",
    "print(count)\n",
    "f.close()"
   ]
  },
  {
   "cell_type": "code",
   "execution_count": 58,
   "id": "e5c3f32b",
   "metadata": {},
   "outputs": [
    {
     "name": "stdout",
     "output_type": "stream",
     "text": [
      "['기관 명', '모델명', '시리얼', '불법주정차 감지수', '5분이상 주정차 차량 감지수', '동작여부', '등록일시']\n"
     ]
    }
   ],
   "source": [
    "#서울시 금천구 불법주차(IoT)에서 최근 등록일자 제목 출력\n",
    "import csv\n",
    "f = open(\"OUTLAWPARKING.csv\")\n",
    "parking = csv.reader(f)\n",
    "title = next(parking)\n",
    "print(title)\n",
    "f.close()"
   ]
  },
  {
   "cell_type": "code",
   "execution_count": 6,
   "id": "1b2ca33f",
   "metadata": {},
   "outputs": [
    {
     "name": "stdout",
     "output_type": "stream",
     "text": [
      "구분,계,종로구,중 구,용산구,성동구,광진구,동대문구,중랑구,성북구,강북구,도봉구,노원구,은평구,서대문구,마포구,양천구,강서구,구로구,금천구,영등포구,동작구,관악구,서초구,강남구,송파구,강동구,"
     ]
    }
   ],
   "source": [
    "#제목 출력\n",
    "#제목을 한줄에 출력(가로로) \n",
    "import csv\n",
    "f = open(\"CCTV.csv\")\n",
    "cctv = csv.reader(f) \n",
    "for line in cctv:\n",
    "    print(line[0], end = \",\") \n",
    "f.close() "
   ]
  },
  {
   "cell_type": "code",
   "execution_count": 8,
   "id": "a02ce94f",
   "metadata": {},
   "outputs": [
    {
     "name": "stdout",
     "output_type": "stream",
     "text": [
      "계,종로구,중 구,용산구,성동구,광진구,동대문구,중랑구,성북구,강북구,\n",
      "도봉구,노원구,은평구,서대문구,마포구,양천구,강서구,구로구,금천구,영등포구,\n",
      "동작구,관악구,서초구,강남구,송파구,강동구,"
     ]
    }
   ],
   "source": [
    "#제목 출력\n",
    "#제목을 한줄에 출력(가로로) \n",
    "#10개씩 끊어서 출력\n",
    "import csv\n",
    "cnt = 0\n",
    "f = open(\"CCTV.csv\")\n",
    "cctv = csv.reader(f) \n",
    "title = next(cctv)\n",
    "for line in cctv:\n",
    "    cnt = cnt + 1\n",
    "    print(line[0], end = \",\") \n",
    "    if (cnt % 10 == 0):\n",
    "        print(end='\\n') #print()도 가능하다\n",
    "f.close() "
   ]
  },
  {
   "cell_type": "code",
   "execution_count": 6,
   "id": "7b3ce318",
   "metadata": {},
   "outputs": [
    {
     "ename": "IndentationError",
     "evalue": "expected an indented block (Temp/ipykernel_8788/348542449.py, line 7)",
     "output_type": "error",
     "traceback": [
      "\u001b[1;36m  File \u001b[1;32m\"C:\\Users\\user\\AppData\\Local\\Temp/ipykernel_8788/348542449.py\"\u001b[1;36m, line \u001b[1;32m7\u001b[0m\n\u001b[1;33m    f.close()\u001b[0m\n\u001b[1;37m    ^\u001b[0m\n\u001b[1;31mIndentationError\u001b[0m\u001b[1;31m:\u001b[0m expected an indented block\n"
     ]
    }
   ],
   "source": [
    "#광주파일의 최고기온 열 출력\n",
    "import csv\n",
    "f = open(\"guangzu.csv\")\n",
    "weather = csv.reader(f)\n",
    "for line in weather:\n",
    "   # print(line[4])\n",
    "f.close()"
   ]
  },
  {
   "cell_type": "code",
   "execution_count": 23,
   "id": "78ddcf2a",
   "metadata": {},
   "outputs": [
    {
     "name": "stdout",
     "output_type": "stream",
     "text": [
      "평균기온의 합 :  104238.09999999985\n"
     ]
    }
   ],
   "source": [
    "#지난 20년간 광주의 평균기온은(line[2]) 평균 얼마일까요?\n",
    "#1)평균을 구하기 위해서 합\n",
    "import csv\n",
    "sum = 0\n",
    "f = open(\"guangzu.csv\")\n",
    "weather = csv.reader(f)\n",
    "title = next(weather)\n",
    "for line in weather:\n",
    "    #sum = sum + line[2]\n",
    "    #print(\"평균기온의 합 : \", sum)\n",
    "    sum = sum + float(line[2])\n",
    "print(\"평균기온의 합 : \",sum)\n",
    "f.close()"
   ]
  },
  {
   "cell_type": "code",
   "execution_count": 84,
   "id": "aacf057c",
   "metadata": {},
   "outputs": [
    {
     "name": "stdout",
     "output_type": "stream",
     "text": [
      "기온의 갯수 :  7306\n",
      "평균기온의 합 : 14.267\n"
     ]
    }
   ],
   "source": [
    "#지난 20년간 광주의 평균기온은(line[2]) 평균 얼마일까요?\n",
    "#1) 평균을 구하기 위해서 합\n",
    "#2) 평균을 구하기\n",
    "import csv\n",
    "sum = 0\n",
    "count = 1\n",
    "f = open(\"guangzu.csv\")\n",
    "weather = csv.reader(f)\n",
    "title = next(weather)\n",
    "for line in weather:\n",
    "    #sum = sum + line[2]\n",
    "    #print(\"평균기온의 합 : \", sum)\n",
    "    count = count + 1\n",
    "    sum = sum + float(line[2])\n",
    "print(\"기온의 갯수 : \", count)\n",
    "print(\"평균기온의 합 : %.3f\" %(sum/count)) #소수점 3째자리 출력\n",
    "f.close()"
   ]
  },
  {
   "cell_type": "code",
   "execution_count": 67,
   "id": "a8587aa2",
   "metadata": {},
   "outputs": [
    {
     "name": "stdout",
     "output_type": "stream",
     "text": [
      "39.6\n"
     ]
    }
   ],
   "source": [
    "#지난 20년간 광주의 최고기온 평균 얼마일까요?\n",
    "import csv\n",
    "max_temp = float(line[4])\n",
    "f = open(\"guangzu.csv\")\n",
    "weather = csv.reader(f)\n",
    "title = next(weather)\n",
    "for line in weather:\n",
    "    if line[4] == '':\n",
    "        line[4] = 0.0\n",
    "    line[4] = float(line[4])\n",
    "    if (max < float(line[4])):\n",
    "        max = line[4]\n",
    "print(max)\n",
    "f.close()"
   ]
  },
  {
   "cell_type": "code",
   "execution_count": 76,
   "id": "49945440",
   "metadata": {},
   "outputs": [
    {
     "name": "stdout",
     "output_type": "stream",
     "text": [
      "2018-08-01\n"
     ]
    }
   ],
   "source": [
    "# 20년간 서울의 최고 더웠던 날은 언제 일까요?\n",
    "import csv\n",
    "day = line[0]\n",
    "max_temp = float(line[4])\n",
    "f = open(\"서울.csv\")\n",
    "seoul = csv.reader(f)\n",
    "title = next(seoul)\n",
    "\n",
    "for line in seoul:\n",
    "    if line[4] == '':\n",
    "        line[4] = 0.0\n",
    "    line[4] = float(line[4])\n",
    "    if (max_temp < float(line[4])):\n",
    "        max_temp = line[4] #39.6\n",
    "        day = line[0]\n",
    "print(day)\n",
    "f.close()"
   ]
  },
  {
   "cell_type": "code",
   "execution_count": 88,
   "id": "49d5a99b",
   "metadata": {},
   "outputs": [
    {
     "name": "stdout",
     "output_type": "stream",
     "text": [
      "내 생일날 평균 기온: 12.921\n"
     ]
    }
   ],
   "source": [
    "#지난 20년간 자신의 생일날 평균 기온은? \n",
    "import csv\n",
    "sum = 0\n",
    "count = 1\n",
    "myBir = line[0]\n",
    "f = open(\"서울.csv\")\n",
    "weather = csv.reader(f)\n",
    "title = next(weather)\n",
    "for line in weather:\n",
    "    if(line[0].find('05-06')):\n",
    "        myBir = line[0] \n",
    "    count = count + 1\n",
    "    sum = sum + float(line[2])\n",
    "print(\"내 생일날 평균 기온: %.3f\" %(sum/count))\n",
    "f.close()"
   ]
  },
  {
   "cell_type": "code",
   "execution_count": 89,
   "id": "484ad6e9",
   "metadata": {},
   "outputs": [
    {
     "name": "stdout",
     "output_type": "stream",
     "text": [
      "날짜를 입력해주세요05-06\n",
      "입력된 날짜의 평균 기온: 12.921\n"
     ]
    }
   ],
   "source": [
    "#다른 지역의 응용\n",
    "#지난 원하는 날짜를 입력 후 입력한 날짜의 평균 기온은? \n",
    "import csv\n",
    "sum = 0\n",
    "count = 1\n",
    "value = line[0]\n",
    "inputDay = input(\"날짜를 입력해주세요 :  \")\n",
    "f = open(\"서울.csv\")\n",
    "weather = csv.reader(f)\n",
    "title = next(weather)\n",
    "for line in weather:\n",
    "    if(line[0].find(inputDay)):\n",
    "        value = line[0] \n",
    "    count = count + 1\n",
    "    sum = sum + float(line[2])\n",
    "print(\"입력된 날짜의 평균 기온: %.3f\" %(sum/count))\n",
    "f.close()"
   ]
  },
  {
   "cell_type": "code",
   "execution_count": null,
   "id": "9c449870",
   "metadata": {},
   "outputs": [],
   "source": []
  }
 ],
 "metadata": {
  "kernelspec": {
   "display_name": "Python 3 (ipykernel)",
   "language": "python",
   "name": "python3"
  },
  "language_info": {
   "codemirror_mode": {
    "name": "ipython",
    "version": 3
   },
   "file_extension": ".py",
   "mimetype": "text/x-python",
   "name": "python",
   "nbconvert_exporter": "python",
   "pygments_lexer": "ipython3",
   "version": "3.9.7"
  }
 },
 "nbformat": 4,
 "nbformat_minor": 5
}
