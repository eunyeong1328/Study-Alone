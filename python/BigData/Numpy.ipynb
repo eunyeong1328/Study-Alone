{
 "cells": [
  {
   "cell_type": "code",
   "execution_count": 1,
   "id": "3c4f3ead",
   "metadata": {},
   "outputs": [
    {
     "name": "stdout",
     "output_type": "stream",
     "text": [
      "1차원 배열 mean()  3.5\n",
      "1차원 배열 mean()  (2, 3)\n",
      "[[1 3 5]\n",
      " [2 4 6]]\n",
      "[[1. 1. 1. 1.]\n",
      " [1. 1. 1. 1.]\n",
      " [1. 1. 1. 1.]]\n",
      "[2 4 6]\n",
      "2차원 배열 mean()  3.5\n",
      "2차원 배열 shape  (2, 3)\n",
      "12\n",
      "모든 원소에 2번째 해당하는 값 추출 [11 12 13]\n",
      "[1 2 3]\n",
      "[ 1 11]\n"
     ]
    }
   ],
   "source": [
    "#9장 Numbpy \n",
    "#Numbpy : C언어로 구현되 파이썬 라이브러리 ,고성능의 수치계산을 위해 제작\n",
    "#python에는 mean()을 사용할 수 없어 array처리 후 사용\n",
    "# mean() ->평균값\n",
    "import numpy as np #numpy 기본적으로 array라는 단위로 데이터를 관리하며 이에 대해 연산을 수행\n",
    "#x = np.array([1,3,5,7,9,11]) # x = np.array(1,3,5) -> X\n",
    "#x = np.array([1,3,5,7,9,11]).reshape(3,2) # 3의 2열로 바꿔라~ 2차원 배열을 원하는 모양으로 바꿀 수 있다.\n",
    "x = np.array([[1,3,5],[2,4,6]])\n",
    "a = np.array([ [1,2,3],[2,3,4] ])\n",
    "y = np.ones([3,4]) #ones는 값을 다 1로 바꾸는 것\n",
    "print(\"1차원 배열 mean() \",x.mean())\n",
    "print(\"1차원 배열 mean() \",x.shape) \n",
    "print(x)\n",
    "print(y)\n",
    "print(x[1])\n",
    "print(\"2차원 배열 mean() \",x.mean())\n",
    "print(\"2차원 배열 shape \",x.shape)\n",
    "list1 = [[1,11],[2,12],[3,13]] #파이썬의 list\n",
    "print(list1[1][1]) \n",
    "# print(list1[:,1]) X <= 이 코드는 에러 \n",
    "# 파이썬에서는 모든 원소에 2번째 해당하는 값을 가져오지 못하지만 numpy를 사용하며 가능 \n",
    "np_arr = np.array(list1) #numpy로 한번 변환함\n",
    "print(\"모든 원소에 2번째 해당하는 값 추출\",np_arr[:,1]) #이 형식은 numpy에서만 지원이 된다.!!!!중요!!!!\n",
    "#print(np.array(list1[:,1])) X <= 이 코드는 에러  numpy변환 전에 list1를 먼저 출력해서 안됨\n",
    "print(np.array(np_arr[:,0])) \n",
    "print(np.array(list1[:][0]))"
   ]
  },
  {
   "cell_type": "code",
   "execution_count": 2,
   "id": "cc814ca6",
   "metadata": {},
   "outputs": [
    {
     "data": {
      "text/plain": [
       "array([1.41421356, 1.73205081, 2.        ])"
      ]
     },
     "execution_count": 2,
     "metadata": {},
     "output_type": "execute_result"
    }
   ],
   "source": [
    "#numpy 수학적이거나 통계적인 것을 활용\n",
    "import math\n",
    "import numpy as np\n",
    "#math.sqrt(2)\n",
    "#math.sqrt([2,3,4]) X <= 이 코드는 에러\n",
    "np.sqrt([2,3,4])"
   ]
  },
  {
   "cell_type": "code",
   "execution_count": 3,
   "id": "7013f15c",
   "metadata": {},
   "outputs": [
    {
     "name": "stdout",
     "output_type": "stream",
     "text": [
      "[[ 0  1  2  3  4]\n",
      " [ 5  6  7  8  9]\n",
      " [10 11 12 13 14]]\n"
     ]
    }
   ],
   "source": [
    "import math\n",
    "import numpy as np\n",
    "\n",
    "a = np.arange(15).reshape(3,5) #3행 5열\n",
    "print(a)"
   ]
  },
  {
   "cell_type": "code",
   "execution_count": 4,
   "id": "a609b957",
   "metadata": {},
   "outputs": [
    {
     "name": "stdout",
     "output_type": "stream",
     "text": [
      "6\n"
     ]
    }
   ],
   "source": [
    "import math\n",
    "import numpy as np\n",
    "\n",
    "a = np.arange(15).reshape(3,5) #3행 5열\n",
    "print(a[1][1])"
   ]
  },
  {
   "cell_type": "code",
   "execution_count": 7,
   "id": "a3aa57fb",
   "metadata": {},
   "outputs": [
    {
     "name": "stdout",
     "output_type": "stream",
     "text": [
      "[[0. 0. 0.]\n",
      " [0. 0. 0.]\n",
      " [0. 0. 0.]\n",
      " [0. 0. 0.]\n",
      " [0. 0. 0.]]\n"
     ]
    }
   ],
   "source": [
    "import numpy as np\n",
    "z_v = np.zeros((5,3))\n",
    "print(z_v)"
   ]
  },
  {
   "cell_type": "code",
   "execution_count": 11,
   "id": "674e6304",
   "metadata": {},
   "outputs": [
    {
     "name": "stdout",
     "output_type": "stream",
     "text": [
      "[[5. 5. 5.]\n",
      " [5. 5. 5.]\n",
      " [5. 5. 5.]\n",
      " [5. 5. 5.]\n",
      " [5. 5. 5.]]\n"
     ]
    }
   ],
   "source": [
    "import numpy as np\n",
    "z_v = np.zeros(15).reshape((5,3))\n",
    "z_v += 5\n",
    "print(z_v)"
   ]
  },
  {
   "cell_type": "code",
   "execution_count": 12,
   "id": "ed1bf652",
   "metadata": {},
   "outputs": [
    {
     "name": "stdout",
     "output_type": "stream",
     "text": [
      "[[6. 6. 6.]\n",
      " [6. 6. 6.]\n",
      " [6. 6. 6.]\n",
      " [6. 6. 6.]\n",
      " [6. 6. 6.]]\n"
     ]
    }
   ],
   "source": [
    "import numpy as np\n",
    "z_v = np.ones(15).reshape((5,3))\n",
    "z_v += 5\n",
    "print(z_v)"
   ]
  },
  {
   "cell_type": "code",
   "execution_count": 14,
   "id": "cf3b1ebd",
   "metadata": {},
   "outputs": [
    {
     "name": "stdout",
     "output_type": "stream",
     "text": [
      "[[1 3]\n",
      " [2 4]]\n"
     ]
    }
   ],
   "source": [
    "#전치 행렬 : 행과 열을 교환\n",
    "#원하는 방향으로 바꾸기 가능\n",
    "import numpy as np\n",
    "arr = np.array([[1,2],[3,4]])\n",
    "print(arr.transpose())"
   ]
  },
  {
   "cell_type": "code",
   "execution_count": 18,
   "id": "c6427c2c",
   "metadata": {},
   "outputs": [
    {
     "name": "stdout",
     "output_type": "stream",
     "text": [
      "[5 7 9]\n"
     ]
    }
   ],
   "source": [
    "#인덱스 별로 합을 구해서 출력\n",
    "import numpy as np\n",
    "x = np.array([1,2,3])\n",
    "y = np.array([4,5,6])\n",
    "z = x + y\n",
    "print(z)"
   ]
  },
  {
   "cell_type": "code",
   "execution_count": 20,
   "id": "82e27900",
   "metadata": {},
   "outputs": [
    {
     "name": "stdout",
     "output_type": "stream",
     "text": [
      "[2 3 4]\n"
     ]
    }
   ],
   "source": [
    "import numpy as np\n",
    "s = np.array([1,2,3])\n",
    "t = s + 1\n",
    "print(t)"
   ]
  },
  {
   "cell_type": "code",
   "execution_count": 23,
   "id": "4b2b5e23",
   "metadata": {},
   "outputs": [
    {
     "name": "stdout",
     "output_type": "stream",
     "text": [
      "[4 5 6]\n",
      "[2 5 8]\n"
     ]
    }
   ],
   "source": [
    "import numpy as np\n",
    "x = np.array([[1,2,3],[4,5,6],[7,8,9]])\n",
    "print(x[1])\n",
    "print(x[:,1])"
   ]
  },
  {
   "cell_type": "code",
   "execution_count": 26,
   "id": "38eac220",
   "metadata": {},
   "outputs": [
    {
     "name": "stdout",
     "output_type": "stream",
     "text": [
      "[ 5 11 17]\n"
     ]
    }
   ],
   "source": [
    "#x와 y의 1열에 해당하는 값을 서로 덧셈하여 출력\n",
    "import numpy as np\n",
    "x = np.array([[1,2,3],[4,5,6],[7,8,9]])\n",
    "y = np.array([[2,3,4],[5,6,7],[8,9,10]])\n",
    "z = x[:,1] + y[:,1]\n",
    "print(z)"
   ]
  },
  {
   "cell_type": "code",
   "execution_count": null,
   "id": "100a2c10",
   "metadata": {},
   "outputs": [],
   "source": []
  }
 ],
 "metadata": {
  "kernelspec": {
   "display_name": "Python 3 (ipykernel)",
   "language": "python",
   "name": "python3"
  },
  "language_info": {
   "codemirror_mode": {
    "name": "ipython",
    "version": 3
   },
   "file_extension": ".py",
   "mimetype": "text/x-python",
   "name": "python",
   "nbconvert_exporter": "python",
   "pygments_lexer": "ipython3",
   "version": "3.9.7"
  }
 },
 "nbformat": 4,
 "nbformat_minor": 5
}
