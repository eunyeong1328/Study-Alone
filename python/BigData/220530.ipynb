{
 "cells": [
  {
   "cell_type": "code",
   "execution_count": 2,
   "id": "899abf9e",
   "metadata": {},
   "outputs": [
    {
     "name": "stdout",
     "output_type": "stream",
     "text": [
      "[130 157  66 263 255]\n",
      "[ 1200  5700   605 14430 16250]\n",
      "[12.          1.75438596  5.          2.37179487  1.04      ]\n",
      "[110  43  44 107   5]\n"
     ]
    }
   ],
   "source": [
    "import matplotlib.pyplot as plt\n",
    "import numpy as np\n",
    "%matplotlib qt\n",
    "\n",
    "a1 = [120, 100, 55, 185, 130]\n",
    "b1 = [10, 57, 11, 78, 125]\n",
    "x = np.array([1, 2, 3, 4, 5])\n",
    "c = np.add(a1, b1)\n",
    "print(c)\n",
    "d = np.multiply(a1, b1)\n",
    "print(d)\n",
    "e = np.divide(a1, b1)\n",
    "print(e)\n",
    "f = np.subtract(a1, b1)\n",
    "print(f)\n",
    "plt.bar(x + 0.0, c, width=0.2, label=\"c\")\n",
    "#plt.bar(x, d)\n",
    "plt.bar(x + 0.3, e, width=0.2, label=\"e\")\n",
    "plt.bar(x + 0.6, f, width=0.2, label=\"f\")\n",
    "plt.legend()\n",
    "plt.show();"
   ]
  },
  {
   "cell_type": "code",
   "execution_count": 8,
   "id": "96d33013",
   "metadata": {},
   "outputs": [
    {
     "name": "stdout",
     "output_type": "stream",
     "text": [
      "[35, 37, 34, 36, 33, 49, 48, 52, 39, 44, 34, 33, 38, 45, 50, 48, 46, 56, 205, 305, 323, 425, 543, 582, 588, 564, 534, 435, 396, 344, 284, 210, 157, 164, 152, 138, 116, 133, 120, 115, 127, 121, 113, 99, 83, 98, 106, 107, 126, 121, 125, 150, 155, 146, 127, 113, 124, 128, 110, 123, 106, 122, 118, 106, 103, 105, 69, 95, 81, 67, 68, 73, 81, 68, 82, 79, 61, 56, 68, 82, 66, 59, 41, 38, 46, 39, 24, 14, 12, 8, 9, 2, 5, 7, 2, 2, 2, 0, 1, 2, 1]\n"
     ]
    }
   ],
   "source": [
    "import matplotlib.pyplot as plt\n",
    "import numpy as np\n",
    "import csv\n",
    "%matplotlib qt\n",
    "plt.rc(\"font\",family = \"malgun gothic\")\n",
    "f = open(\"people.csv\")\n",
    "people = csv.reader(f)\n",
    "title = next(people)\n",
    "x = []\n",
    "\n",
    "for data in people:\n",
    "    if \"사근동\" in data[0]:\n",
    "        for i in data[3:]: #0대(3:13), 10대(13:23), 20대(23:33) \n",
    "            i = i.replace(' ','')\n",
    "            i = i.replace(' ','')\n",
    "            x.append(int(i))\n",
    "print(x)\n",
    "plt.plot(x)\n",
    "plt.show()\n",
    "f.close()"
   ]
  },
  {
   "cell_type": "code",
   "execution_count": 10,
   "id": "e3e25592",
   "metadata": {},
   "outputs": [
    {
     "name": "stdout",
     "output_type": "stream",
     "text": [
      "연령대를 입력해주세요10\n",
      "[34, 33, 38, 45, 50, 48, 46, 56, 205, 305]\n"
     ]
    }
   ],
   "source": [
    "#연령대를 입력받아서 해당 연령대 출력\n",
    "#ex)10 입력하면 10대 데이터 출력  \n",
    "import matplotlib.pyplot as plt\n",
    "import numpy as np\n",
    "import csv\n",
    "%matplotlib qt\n",
    "plt.rc(\"font\",family = \"malgun gothic\")\n",
    "f = open(\"people.csv\")\n",
    "people = csv.reader(f)\n",
    "title = next(people)\n",
    "x = []\n",
    "age = int(input(\"연령대를 입력해주세요: \")) \n",
    "\n",
    "for data in people:\n",
    "    if \"사근동\" in data[0]:\n",
    "        for i in data[age + 3: age + 13]:\n",
    "            i = i.replace(' ','')\n",
    "            i = i.replace(' ','')\n",
    "            x.append(int(i))\n",
    "print(x)\n",
    "plt.plot(x)\n",
    "plt.show()\n",
    "f.close()"
   ]
  },
  {
   "cell_type": "code",
   "execution_count": 25,
   "id": "14f589af",
   "metadata": {},
   "outputs": [
    {
     "name": "stdout",
     "output_type": "stream",
     "text": [
      "연령대를 입력해주세요: 15\n",
      "10\n",
      "[34, 33, 38, 45, 50, 48, 46, 56, 205, 305]\n"
     ]
    }
   ],
   "source": [
    "#지금은 15를 입력하면 15부터 24세까지 출력\n",
    "#ex)나이를 15 입력하면 해당 연령대인 10대 데이터 출력 \n",
    "import matplotlib.pyplot as plt\n",
    "import numpy as np\n",
    "import csv\n",
    "%matplotlib qt\n",
    "plt.rc(\"font\",family = \"malgun gothic\")\n",
    "f = open(\"people.csv\")\n",
    "people = csv.reader(f)\n",
    "title = next(people)\n",
    "x = []\n",
    "age = int(input(\"연령대를 입력해주세요: \")) \n",
    "n = int(age/10)*10\n",
    "\n",
    "for data in people:\n",
    "    if \"사근동\" in data[0]:\n",
    "        for i in data[n + 3: n + 13]:\n",
    "            i = i.replace(' ','')\n",
    "            i = i.replace(' ','')\n",
    "            x.append(int(i))\n",
    "print(int(age/10)*10)\n",
    "print(x)\n",
    "plt.plot(x)\n",
    "plt.show()\n",
    "f.close()"
   ]
  },
  {
   "cell_type": "code",
   "execution_count": 22,
   "id": "5c077d0e",
   "metadata": {
    "scrolled": true
   },
   "outputs": [
    {
     "name": "stdout",
     "output_type": "stream",
     "text": [
      "[1 2 3 4]\n",
      "10\n",
      "2.5\n",
      "4\n",
      "1\n"
     ]
    }
   ],
   "source": [
    "a = np.arange(1,5)\n",
    "print(a)\n",
    "print(np.sum(a))\n",
    "print(np.mean(a))\n",
    "print(np.max(a))\n",
    "print(np.min(a))"
   ]
  },
  {
   "cell_type": "code",
   "execution_count": 47,
   "id": "6db64073",
   "metadata": {},
   "outputs": [
    {
     "name": "stdout",
     "output_type": "stream",
     "text": [
      "[35 37 34 36 33 49 48 52 39 44]\n",
      "[407, 860, 4734, 1589, 1101, 1301, 972, 718, 347, 32]\n"
     ]
    }
   ],
   "source": [
    "#인구 데이터로 연령별 그래프 그려보기 (0세 ~ 99세까지 10단위로 합계)\n",
    "import matplotlib.pyplot as plt\n",
    "import numpy as np\n",
    "import csv\n",
    "%matplotlib qt\n",
    "plt.rc(\"font\",family = \"malgun gothic\")\n",
    "f = open(\"people.csv\")\n",
    "people = csv.reader(f)\n",
    "title = next(people)\n",
    "x = []\n",
    "age_id = [\"10대\",\"20대\",\"30대\",\"40대\",\"50대\",\"60대\",\"70대\",\"80대\",\"90대\"]\n",
    "z = []\n",
    "for data in people:\n",
    "    if \"사근동\" in data[0]:\n",
    "        for i in data[3: -1]: #0부터 99세까지 \n",
    "            i = i.replace(' ','')\n",
    "            i = i.replace(' ','')\n",
    "            x.append(int(i))\n",
    "            \n",
    "        #인구 데이터로 연령별 그래프 그려보기 (0세 ~ 99세까지 10단위로 합계)\n",
    "y = np.array(x).reshape(10,10) #10개씩 잘랐음\n",
    "print(y[0])\n",
    "for i in range(10):\n",
    "    z.append(np.sum(y[i]))\n",
    "print(z)\n",
    "plt.plot(z)\n",
    "plt.show()\n",
    "f.close()"
   ]
  },
  {
   "cell_type": "code",
   "execution_count": 49,
   "id": "6840f161",
   "metadata": {},
   "outputs": [
    {
     "name": "stdout",
     "output_type": "stream",
     "text": [
      "[35 37 34 36 33 49 48 52 39 44]\n"
     ]
    }
   ],
   "source": [
    "#인구 데이터로 연령별 그래프 그려보기 (0세 ~ 99세까지 10단위로 합계)\n",
    "import matplotlib.pyplot as plt\n",
    "import numpy as np\n",
    "import csv\n",
    "%matplotlib qt\n",
    "plt.rc(\"font\",family = \"malgun gothic\")\n",
    "f = open(\"people.csv\")\n",
    "people = csv.reader(f)\n",
    "title = next(people)\n",
    "x = []\n",
    "age_id = [\"0대\",\"10대\",\"20대\",\"30대\",\"40대\",\"50대\",\"60대\",\"70대\",\"80대\",\"90대\"]\n",
    "z = []\n",
    "for data in people:\n",
    "    if \"사근동\" in data[0]:\n",
    "        for i in data[3: -1]: #0부터 99세까지 \n",
    "            i = i.replace(' ','')\n",
    "            i = i.replace(' ','')\n",
    "            x.append(int(i))\n",
    "            \n",
    "y = np.array(x).reshape(10,10) #10개씩 잘랐음\n",
    "print(y[0])\n",
    "for i in range(10):\n",
    "    z.append(np.sum(y[i]))\n",
    "plt.bar(age_id, z)\n",
    "plt.show()\n",
    "f.close()"
   ]
  },
  {
   "cell_type": "code",
   "execution_count": 51,
   "id": "956492fc",
   "metadata": {},
   "outputs": [],
   "source": [
    "import matplotlib.pyplot as plt\n",
    "import numpy as np\n",
    "x = [11,20,35,47,51]\n",
    "plt.boxplot(x)\n",
    "plt.show()"
   ]
  },
  {
   "cell_type": "code",
   "execution_count": 52,
   "id": "49610c20",
   "metadata": {},
   "outputs": [
    {
     "data": {
      "image/png": "[encoded data removed]",
      "text/plain": [
       "<Figure size 432x288 with 1 Axes>"
      ]
     },
     "metadata": {
      "needs_background": "light"
     },
     "output_type": "display_data"
    }
   ],
   "source": [
    "import matplotlib.pyplot as plt\n",
    "%matplotlib inline\n",
    "x = [1,2,3,4,5]\n",
    "y = [5,2,7,3,10]\n",
    "plt.boxplot([x,y])\n",
    "plt.show()"
   ]
  },
  {
   "cell_type": "code",
   "execution_count": 53,
   "id": "fb30a512",
   "metadata": {},
   "outputs": [
    {
     "data": {
      "image/png": "[encoded data removed]",
      "text/plain": [
       "<Figure size 432x288 with 1 Axes>"
      ]
     },
     "metadata": {},
     "output_type": "display_data"
    }
   ],
   "source": [
    "plt.pie([10,20,30])\n",
    "plt.show()"
   ]
  },
  {
   "cell_type": "code",
   "execution_count": 56,
   "id": "a11fe53c",
   "metadata": {},
   "outputs": [
    {
     "data": {
      "image/png": "[encoded data removed]",
      "text/plain": [
       "<Figure size 432x288 with 1 Axes>"
      ]
     },
     "metadata": {},
     "output_type": "display_data"
    }
   ],
   "source": [
    "x = [80, 120, 110, 20]\n",
    "year = ['1학년','2학년','3학년','4학년']\n",
    "plt.pie(x,labels = year, autopct = \"%.1f%%\") #뒤에 %표시하기\n",
    "plt.show()"
   ]
  },
  {
   "cell_type": "code",
   "execution_count": 67,
   "id": "3b0bcca5",
   "metadata": {},
   "outputs": [
    {
     "data": {
      "image/png": "[encoded data removed]",
      "text/plain": [
       "<Figure size 432x288 with 1 Axes>"
      ]
     },
     "metadata": {},
     "output_type": "display_data"
    }
   ],
   "source": [
    "x = [80, 120, 110, 20]\n",
    "year = ['1학년','2학년','3학년','4학년']\n",
    "plt.pie(x,labels = year, autopct = \"%.1f%%\", explode = (0,0,0,0.5)) #autopct : 뒤에 %표시하기 explode 돌출표시\n",
    "plt.legend(loc = (1.5,0.5) , fontsize = 15 , title=\"학년\") #loc는 범례의 위치표시\n",
    "plt.show()"
   ]
  },
  {
   "cell_type": "code",
   "execution_count": null,
   "id": "b3d0c4c1",
   "metadata": {},
   "outputs": [],
   "source": []
  }
 ],
 "metadata": {
  "kernelspec": {
   "display_name": "Python 3 (ipykernel)",
   "language": "python",
   "name": "python3"
  },
  "language_info": {
   "codemirror_mode": {
    "name": "ipython",
    "version": 3
   },
   "file_extension": ".py",
   "mimetype": "text/x-python",
   "name": "python",
   "nbconvert_exporter": "python",
   "pygments_lexer": "ipython3",
   "version": "3.9.12"
  }
 },
 "nbformat": 4,
 "nbformat_minor": 5
}
